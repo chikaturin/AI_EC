{
 "cells": [
  {
   "cell_type": "markdown",
   "metadata": {},
   "source": [
    "# (0) Prepare env and install library\n"
   ]
  },
  {
   "cell_type": "code",
   "execution_count": 1,
   "metadata": {},
   "outputs": [
    {
     "name": "stdout",
     "output_type": "stream",
     "text": [
      "Requirement already satisfied: IPython in c:\\users\\chikaturin\\appdata\\roaming\\python\\python313\\site-packages (8.31.0)\n",
      "Requirement already satisfied: pandas in c:\\users\\chikaturin\\appdata\\local\\programs\\python\\python313\\lib\\site-packages (2.2.3)\n",
      "Requirement already satisfied: numpy in c:\\users\\chikaturin\\appdata\\local\\programs\\python\\python313\\lib\\site-packages (1.26.4)\n",
      "Requirement already satisfied: scikit-learn in c:\\users\\chikaturin\\appdata\\local\\programs\\python\\python313\\lib\\site-packages (1.6.0)\n",
      "Requirement already satisfied: requests in c:\\users\\chikaturin\\appdata\\local\\programs\\python\\python313\\lib\\site-packages (2.32.3)\n",
      "Requirement already satisfied: langchain-core in c:\\users\\chikaturin\\appdata\\local\\programs\\python\\python313\\lib\\site-packages (0.3.33)\n",
      "Requirement already satisfied: colorama in c:\\users\\chikaturin\\appdata\\local\\programs\\python\\python313\\lib\\site-packages (from IPython) (0.4.6)\n",
      "Requirement already satisfied: decorator in c:\\users\\chikaturin\\appdata\\roaming\\python\\python313\\site-packages (from IPython) (5.1.1)\n",
      "Requirement already satisfied: jedi>=0.16 in c:\\users\\chikaturin\\appdata\\roaming\\python\\python313\\site-packages (from IPython) (0.19.2)\n",
      "Requirement already satisfied: matplotlib-inline in c:\\users\\chikaturin\\appdata\\roaming\\python\\python313\\site-packages (from IPython) (0.1.7)\n",
      "Requirement already satisfied: prompt_toolkit<3.1.0,>=3.0.41 in c:\\users\\chikaturin\\appdata\\roaming\\python\\python313\\site-packages (from IPython) (3.0.48)\n",
      "Requirement already satisfied: pygments>=2.4.0 in c:\\users\\chikaturin\\appdata\\roaming\\python\\python313\\site-packages (from IPython) (2.18.0)\n",
      "Requirement already satisfied: stack_data in c:\\users\\chikaturin\\appdata\\roaming\\python\\python313\\site-packages (from IPython) (0.6.3)\n",
      "Requirement already satisfied: traitlets>=5.13.0 in c:\\users\\chikaturin\\appdata\\roaming\\python\\python313\\site-packages (from IPython) (5.14.3)\n",
      "Requirement already satisfied: python-dateutil>=2.8.2 in c:\\users\\chikaturin\\appdata\\local\\programs\\python\\python313\\lib\\site-packages (from pandas) (2.9.0.post0)\n",
      "Requirement already satisfied: pytz>=2020.1 in c:\\users\\chikaturin\\appdata\\local\\programs\\python\\python313\\lib\\site-packages (from pandas) (2024.2)\n",
      "Requirement already satisfied: tzdata>=2022.7 in c:\\users\\chikaturin\\appdata\\local\\programs\\python\\python313\\lib\\site-packages (from pandas) (2024.2)\n",
      "Requirement already satisfied: scipy>=1.6.0 in c:\\users\\chikaturin\\appdata\\local\\programs\\python\\python313\\lib\\site-packages (from scikit-learn) (1.14.1)\n",
      "Requirement already satisfied: joblib>=1.2.0 in c:\\users\\chikaturin\\appdata\\local\\programs\\python\\python313\\lib\\site-packages (from scikit-learn) (1.4.2)\n",
      "Requirement already satisfied: threadpoolctl>=3.1.0 in c:\\users\\chikaturin\\appdata\\local\\programs\\python\\python313\\lib\\site-packages (from scikit-learn) (3.5.0)\n",
      "Requirement already satisfied: charset-normalizer<4,>=2 in c:\\users\\chikaturin\\appdata\\local\\programs\\python\\python313\\lib\\site-packages (from requests) (3.4.0)\n",
      "Requirement already satisfied: idna<4,>=2.5 in c:\\users\\chikaturin\\appdata\\local\\programs\\python\\python313\\lib\\site-packages (from requests) (3.10)\n",
      "Requirement already satisfied: urllib3<3,>=1.21.1 in c:\\users\\chikaturin\\appdata\\local\\programs\\python\\python313\\lib\\site-packages (from requests) (2.3.0)\n",
      "Requirement already satisfied: certifi>=2017.4.17 in c:\\users\\chikaturin\\appdata\\local\\programs\\python\\python313\\lib\\site-packages (from requests) (2024.12.14)\n",
      "Requirement already satisfied: PyYAML>=5.3 in c:\\users\\chikaturin\\appdata\\local\\programs\\python\\python313\\lib\\site-packages (from langchain-core) (6.0.2)\n",
      "Requirement already satisfied: jsonpatch<2.0,>=1.33 in c:\\users\\chikaturin\\appdata\\local\\programs\\python\\python313\\lib\\site-packages (from langchain-core) (1.33)\n",
      "Requirement already satisfied: langsmith<0.4,>=0.1.125 in c:\\users\\chikaturin\\appdata\\local\\programs\\python\\python313\\lib\\site-packages (from langchain-core) (0.2.4)\n",
      "Requirement already satisfied: packaging<25,>=23.2 in c:\\users\\chikaturin\\appdata\\local\\programs\\python\\python313\\lib\\site-packages (from langchain-core) (24.2)\n",
      "Requirement already satisfied: pydantic<3.0.0,>=2.7.4 in c:\\users\\chikaturin\\appdata\\local\\programs\\python\\python313\\lib\\site-packages (from langchain-core) (2.10.4)\n",
      "Requirement already satisfied: tenacity!=8.4.0,<10.0.0,>=8.1.0 in c:\\users\\chikaturin\\appdata\\local\\programs\\python\\python313\\lib\\site-packages (from langchain-core) (9.0.0)\n",
      "Requirement already satisfied: typing-extensions>=4.7 in c:\\users\\chikaturin\\appdata\\local\\programs\\python\\python313\\lib\\site-packages (from langchain-core) (4.12.2)\n",
      "Requirement already satisfied: parso<0.9.0,>=0.8.4 in c:\\users\\chikaturin\\appdata\\roaming\\python\\python313\\site-packages (from jedi>=0.16->IPython) (0.8.4)\n",
      "Requirement already satisfied: jsonpointer>=1.9 in c:\\users\\chikaturin\\appdata\\local\\programs\\python\\python313\\lib\\site-packages (from jsonpatch<2.0,>=1.33->langchain-core) (3.0.0)\n",
      "Requirement already satisfied: httpx<1,>=0.23.0 in c:\\users\\chikaturin\\appdata\\local\\programs\\python\\python313\\lib\\site-packages (from langsmith<0.4,>=0.1.125->langchain-core) (0.27.2)\n",
      "Requirement already satisfied: orjson<4.0.0,>=3.9.14 in c:\\users\\chikaturin\\appdata\\local\\programs\\python\\python313\\lib\\site-packages (from langsmith<0.4,>=0.1.125->langchain-core) (3.10.12)\n",
      "Requirement already satisfied: requests-toolbelt<2.0.0,>=1.0.0 in c:\\users\\chikaturin\\appdata\\local\\programs\\python\\python313\\lib\\site-packages (from langsmith<0.4,>=0.1.125->langchain-core) (1.0.0)\n",
      "Requirement already satisfied: wcwidth in c:\\users\\chikaturin\\appdata\\roaming\\python\\python313\\site-packages (from prompt_toolkit<3.1.0,>=3.0.41->IPython) (0.2.13)\n",
      "Requirement already satisfied: annotated-types>=0.6.0 in c:\\users\\chikaturin\\appdata\\local\\programs\\python\\python313\\lib\\site-packages (from pydantic<3.0.0,>=2.7.4->langchain-core) (0.7.0)\n",
      "Requirement already satisfied: pydantic-core==2.27.2 in c:\\users\\chikaturin\\appdata\\local\\programs\\python\\python313\\lib\\site-packages (from pydantic<3.0.0,>=2.7.4->langchain-core) (2.27.2)\n",
      "Requirement already satisfied: six>=1.5 in c:\\users\\chikaturin\\appdata\\local\\programs\\python\\python313\\lib\\site-packages (from python-dateutil>=2.8.2->pandas) (1.17.0)\n",
      "Requirement already satisfied: executing>=1.2.0 in c:\\users\\chikaturin\\appdata\\roaming\\python\\python313\\site-packages (from stack_data->IPython) (2.1.0)\n",
      "Requirement already satisfied: asttokens>=2.1.0 in c:\\users\\chikaturin\\appdata\\roaming\\python\\python313\\site-packages (from stack_data->IPython) (3.0.0)\n",
      "Requirement already satisfied: pure-eval in c:\\users\\chikaturin\\appdata\\roaming\\python\\python313\\site-packages (from stack_data->IPython) (0.2.3)\n",
      "Requirement already satisfied: anyio in c:\\users\\chikaturin\\appdata\\local\\programs\\python\\python313\\lib\\site-packages (from httpx<1,>=0.23.0->langsmith<0.4,>=0.1.125->langchain-core) (4.7.0)\n",
      "Requirement already satisfied: httpcore==1.* in c:\\users\\chikaturin\\appdata\\local\\programs\\python\\python313\\lib\\site-packages (from httpx<1,>=0.23.0->langsmith<0.4,>=0.1.125->langchain-core) (1.0.7)\n",
      "Requirement already satisfied: sniffio in c:\\users\\chikaturin\\appdata\\local\\programs\\python\\python313\\lib\\site-packages (from httpx<1,>=0.23.0->langsmith<0.4,>=0.1.125->langchain-core) (1.3.1)\n",
      "Requirement already satisfied: h11<0.15,>=0.13 in c:\\users\\chikaturin\\appdata\\local\\programs\\python\\python313\\lib\\site-packages (from httpcore==1.*->httpx<1,>=0.23.0->langsmith<0.4,>=0.1.125->langchain-core) (0.14.0)\n"
     ]
    },
    {
     "name": "stderr",
     "output_type": "stream",
     "text": [
      "\n",
      "[notice] A new release of pip is available: 24.3.1 -> 25.0\n",
      "[notice] To update, run: python.exe -m pip install --upgrade pip\n",
      "\n",
      "[notice] A new release of pip is available: 24.3.1 -> 25.0\n",
      "[notice] To update, run: python.exe -m pip install --upgrade pip\n"
     ]
    },
    {
     "name": "stdout",
     "output_type": "stream",
     "text": [
      "Requirement already satisfied: langchain-chroma in c:\\users\\chikaturin\\appdata\\local\\programs\\python\\python313\\lib\\site-packages (0.1.4)\n",
      "Requirement already satisfied: chromadb!=0.5.4,!=0.5.5,<0.6.0,>=0.4.0 in c:\\users\\chikaturin\\appdata\\local\\programs\\python\\python313\\lib\\site-packages (from langchain-chroma) (0.5.23)\n",
      "Requirement already satisfied: fastapi<1,>=0.95.2 in c:\\users\\chikaturin\\appdata\\local\\programs\\python\\python313\\lib\\site-packages (from langchain-chroma) (0.115.6)\n",
      "Requirement already satisfied: langchain-core<0.4,>=0.1.40 in c:\\users\\chikaturin\\appdata\\local\\programs\\python\\python313\\lib\\site-packages (from langchain-chroma) (0.3.33)\n",
      "Requirement already satisfied: numpy<2.0.0,>=1.26.0 in c:\\users\\chikaturin\\appdata\\local\\programs\\python\\python313\\lib\\site-packages (from langchain-chroma) (1.26.4)\n",
      "Requirement already satisfied: build>=1.0.3 in c:\\users\\chikaturin\\appdata\\local\\programs\\python\\python313\\lib\\site-packages (from chromadb!=0.5.4,!=0.5.5,<0.6.0,>=0.4.0->langchain-chroma) (1.2.2.post1)\n",
      "Requirement already satisfied: pydantic>=1.9 in c:\\users\\chikaturin\\appdata\\local\\programs\\python\\python313\\lib\\site-packages (from chromadb!=0.5.4,!=0.5.5,<0.6.0,>=0.4.0->langchain-chroma) (2.10.4)\n",
      "Requirement already satisfied: chroma-hnswlib==0.7.6 in c:\\users\\chikaturin\\appdata\\local\\programs\\python\\python313\\lib\\site-packages (from chromadb!=0.5.4,!=0.5.5,<0.6.0,>=0.4.0->langchain-chroma) (0.7.6)\n",
      "Requirement already satisfied: uvicorn>=0.18.3 in c:\\users\\chikaturin\\appdata\\local\\programs\\python\\python313\\lib\\site-packages (from uvicorn[standard]>=0.18.3->chromadb!=0.5.4,!=0.5.5,<0.6.0,>=0.4.0->langchain-chroma) (0.34.0)\n",
      "Requirement already satisfied: posthog>=2.4.0 in c:\\users\\chikaturin\\appdata\\local\\programs\\python\\python313\\lib\\site-packages (from chromadb!=0.5.4,!=0.5.5,<0.6.0,>=0.4.0->langchain-chroma) (3.7.4)\n",
      "Requirement already satisfied: typing_extensions>=4.5.0 in c:\\users\\chikaturin\\appdata\\local\\programs\\python\\python313\\lib\\site-packages (from chromadb!=0.5.4,!=0.5.5,<0.6.0,>=0.4.0->langchain-chroma) (4.12.2)\n",
      "Requirement already satisfied: onnxruntime>=1.14.1 in c:\\users\\chikaturin\\appdata\\local\\programs\\python\\python313\\lib\\site-packages (from chromadb!=0.5.4,!=0.5.5,<0.6.0,>=0.4.0->langchain-chroma) (1.20.1)\n",
      "Requirement already satisfied: opentelemetry-api>=1.2.0 in c:\\users\\chikaturin\\appdata\\local\\programs\\python\\python313\\lib\\site-packages (from chromadb!=0.5.4,!=0.5.5,<0.6.0,>=0.4.0->langchain-chroma) (1.29.0)\n",
      "Requirement already satisfied: opentelemetry-exporter-otlp-proto-grpc>=1.2.0 in c:\\users\\chikaturin\\appdata\\local\\programs\\python\\python313\\lib\\site-packages (from chromadb!=0.5.4,!=0.5.5,<0.6.0,>=0.4.0->langchain-chroma) (1.29.0)\n",
      "Requirement already satisfied: opentelemetry-instrumentation-fastapi>=0.41b0 in c:\\users\\chikaturin\\appdata\\local\\programs\\python\\python313\\lib\\site-packages (from chromadb!=0.5.4,!=0.5.5,<0.6.0,>=0.4.0->langchain-chroma) (0.50b0)\n",
      "Requirement already satisfied: opentelemetry-sdk>=1.2.0 in c:\\users\\chikaturin\\appdata\\local\\programs\\python\\python313\\lib\\site-packages (from chromadb!=0.5.4,!=0.5.5,<0.6.0,>=0.4.0->langchain-chroma) (1.29.0)\n",
      "Requirement already satisfied: tokenizers<=0.20.3,>=0.13.2 in c:\\users\\chikaturin\\appdata\\local\\programs\\python\\python313\\lib\\site-packages (from chromadb!=0.5.4,!=0.5.5,<0.6.0,>=0.4.0->langchain-chroma) (0.20.3)\n",
      "Requirement already satisfied: pypika>=0.48.9 in c:\\users\\chikaturin\\appdata\\local\\programs\\python\\python313\\lib\\site-packages (from chromadb!=0.5.4,!=0.5.5,<0.6.0,>=0.4.0->langchain-chroma) (0.48.9)\n",
      "Requirement already satisfied: tqdm>=4.65.0 in c:\\users\\chikaturin\\appdata\\local\\programs\\python\\python313\\lib\\site-packages (from chromadb!=0.5.4,!=0.5.5,<0.6.0,>=0.4.0->langchain-chroma) (4.67.1)\n",
      "Requirement already satisfied: overrides>=7.3.1 in c:\\users\\chikaturin\\appdata\\local\\programs\\python\\python313\\lib\\site-packages (from chromadb!=0.5.4,!=0.5.5,<0.6.0,>=0.4.0->langchain-chroma) (7.7.0)\n",
      "Requirement already satisfied: importlib-resources in c:\\users\\chikaturin\\appdata\\local\\programs\\python\\python313\\lib\\site-packages (from chromadb!=0.5.4,!=0.5.5,<0.6.0,>=0.4.0->langchain-chroma) (6.4.5)\n",
      "Requirement already satisfied: grpcio>=1.58.0 in c:\\users\\chikaturin\\appdata\\local\\programs\\python\\python313\\lib\\site-packages (from chromadb!=0.5.4,!=0.5.5,<0.6.0,>=0.4.0->langchain-chroma) (1.68.1)\n",
      "Requirement already satisfied: bcrypt>=4.0.1 in c:\\users\\chikaturin\\appdata\\local\\programs\\python\\python313\\lib\\site-packages (from chromadb!=0.5.4,!=0.5.5,<0.6.0,>=0.4.0->langchain-chroma) (4.2.1)\n",
      "Requirement already satisfied: typer>=0.9.0 in c:\\users\\chikaturin\\appdata\\local\\programs\\python\\python313\\lib\\site-packages (from chromadb!=0.5.4,!=0.5.5,<0.6.0,>=0.4.0->langchain-chroma) (0.15.1)\n",
      "Requirement already satisfied: kubernetes>=28.1.0 in c:\\users\\chikaturin\\appdata\\local\\programs\\python\\python313\\lib\\site-packages (from chromadb!=0.5.4,!=0.5.5,<0.6.0,>=0.4.0->langchain-chroma) (31.0.0)\n",
      "Requirement already satisfied: tenacity>=8.2.3 in c:\\users\\chikaturin\\appdata\\local\\programs\\python\\python313\\lib\\site-packages (from chromadb!=0.5.4,!=0.5.5,<0.6.0,>=0.4.0->langchain-chroma) (9.0.0)\n",
      "Requirement already satisfied: PyYAML>=6.0.0 in c:\\users\\chikaturin\\appdata\\local\\programs\\python\\python313\\lib\\site-packages (from chromadb!=0.5.4,!=0.5.5,<0.6.0,>=0.4.0->langchain-chroma) (6.0.2)\n",
      "Requirement already satisfied: mmh3>=4.0.1 in c:\\users\\chikaturin\\appdata\\local\\programs\\python\\python313\\lib\\site-packages (from chromadb!=0.5.4,!=0.5.5,<0.6.0,>=0.4.0->langchain-chroma) (5.0.1)\n",
      "Requirement already satisfied: orjson>=3.9.12 in c:\\users\\chikaturin\\appdata\\local\\programs\\python\\python313\\lib\\site-packages (from chromadb!=0.5.4,!=0.5.5,<0.6.0,>=0.4.0->langchain-chroma) (3.10.12)\n",
      "Requirement already satisfied: httpx>=0.27.0 in c:\\users\\chikaturin\\appdata\\local\\programs\\python\\python313\\lib\\site-packages (from chromadb!=0.5.4,!=0.5.5,<0.6.0,>=0.4.0->langchain-chroma) (0.27.2)\n",
      "Requirement already satisfied: rich>=10.11.0 in c:\\users\\chikaturin\\appdata\\local\\programs\\python\\python313\\lib\\site-packages (from chromadb!=0.5.4,!=0.5.5,<0.6.0,>=0.4.0->langchain-chroma) (13.9.4)\n",
      "Requirement already satisfied: starlette<0.42.0,>=0.40.0 in c:\\users\\chikaturin\\appdata\\local\\programs\\python\\python313\\lib\\site-packages (from fastapi<1,>=0.95.2->langchain-chroma) (0.41.3)\n",
      "Requirement already satisfied: jsonpatch<2.0,>=1.33 in c:\\users\\chikaturin\\appdata\\local\\programs\\python\\python313\\lib\\site-packages (from langchain-core<0.4,>=0.1.40->langchain-chroma) (1.33)\n",
      "Requirement already satisfied: langsmith<0.4,>=0.1.125 in c:\\users\\chikaturin\\appdata\\local\\programs\\python\\python313\\lib\\site-packages (from langchain-core<0.4,>=0.1.40->langchain-chroma) (0.2.4)\n",
      "Requirement already satisfied: packaging<25,>=23.2 in c:\\users\\chikaturin\\appdata\\local\\programs\\python\\python313\\lib\\site-packages (from langchain-core<0.4,>=0.1.40->langchain-chroma) (24.2)\n",
      "Requirement already satisfied: pyproject_hooks in c:\\users\\chikaturin\\appdata\\local\\programs\\python\\python313\\lib\\site-packages (from build>=1.0.3->chromadb!=0.5.4,!=0.5.5,<0.6.0,>=0.4.0->langchain-chroma) (1.2.0)\n",
      "Requirement already satisfied: colorama in c:\\users\\chikaturin\\appdata\\local\\programs\\python\\python313\\lib\\site-packages (from build>=1.0.3->chromadb!=0.5.4,!=0.5.5,<0.6.0,>=0.4.0->langchain-chroma) (0.4.6)\n",
      "Requirement already satisfied: anyio in c:\\users\\chikaturin\\appdata\\local\\programs\\python\\python313\\lib\\site-packages (from httpx>=0.27.0->chromadb!=0.5.4,!=0.5.5,<0.6.0,>=0.4.0->langchain-chroma) (4.7.0)\n",
      "Requirement already satisfied: certifi in c:\\users\\chikaturin\\appdata\\local\\programs\\python\\python313\\lib\\site-packages (from httpx>=0.27.0->chromadb!=0.5.4,!=0.5.5,<0.6.0,>=0.4.0->langchain-chroma) (2024.12.14)\n",
      "Requirement already satisfied: httpcore==1.* in c:\\users\\chikaturin\\appdata\\local\\programs\\python\\python313\\lib\\site-packages (from httpx>=0.27.0->chromadb!=0.5.4,!=0.5.5,<0.6.0,>=0.4.0->langchain-chroma) (1.0.7)\n",
      "Requirement already satisfied: idna in c:\\users\\chikaturin\\appdata\\local\\programs\\python\\python313\\lib\\site-packages (from httpx>=0.27.0->chromadb!=0.5.4,!=0.5.5,<0.6.0,>=0.4.0->langchain-chroma) (3.10)\n",
      "Requirement already satisfied: sniffio in c:\\users\\chikaturin\\appdata\\local\\programs\\python\\python313\\lib\\site-packages (from httpx>=0.27.0->chromadb!=0.5.4,!=0.5.5,<0.6.0,>=0.4.0->langchain-chroma) (1.3.1)\n",
      "Requirement already satisfied: h11<0.15,>=0.13 in c:\\users\\chikaturin\\appdata\\local\\programs\\python\\python313\\lib\\site-packages (from httpcore==1.*->httpx>=0.27.0->chromadb!=0.5.4,!=0.5.5,<0.6.0,>=0.4.0->langchain-chroma) (0.14.0)\n",
      "Requirement already satisfied: jsonpointer>=1.9 in c:\\users\\chikaturin\\appdata\\local\\programs\\python\\python313\\lib\\site-packages (from jsonpatch<2.0,>=1.33->langchain-core<0.4,>=0.1.40->langchain-chroma) (3.0.0)\n",
      "Requirement already satisfied: six>=1.9.0 in c:\\users\\chikaturin\\appdata\\local\\programs\\python\\python313\\lib\\site-packages (from kubernetes>=28.1.0->chromadb!=0.5.4,!=0.5.5,<0.6.0,>=0.4.0->langchain-chroma) (1.17.0)\n",
      "Requirement already satisfied: python-dateutil>=2.5.3 in c:\\users\\chikaturin\\appdata\\local\\programs\\python\\python313\\lib\\site-packages (from kubernetes>=28.1.0->chromadb!=0.5.4,!=0.5.5,<0.6.0,>=0.4.0->langchain-chroma) (2.9.0.post0)\n",
      "Requirement already satisfied: google-auth>=1.0.1 in c:\\users\\chikaturin\\appdata\\local\\programs\\python\\python313\\lib\\site-packages (from kubernetes>=28.1.0->chromadb!=0.5.4,!=0.5.5,<0.6.0,>=0.4.0->langchain-chroma) (2.37.0)\n",
      "Requirement already satisfied: websocket-client!=0.40.0,!=0.41.*,!=0.42.*,>=0.32.0 in c:\\users\\chikaturin\\appdata\\local\\programs\\python\\python313\\lib\\site-packages (from kubernetes>=28.1.0->chromadb!=0.5.4,!=0.5.5,<0.6.0,>=0.4.0->langchain-chroma) (1.8.0)\n",
      "Requirement already satisfied: requests in c:\\users\\chikaturin\\appdata\\local\\programs\\python\\python313\\lib\\site-packages (from kubernetes>=28.1.0->chromadb!=0.5.4,!=0.5.5,<0.6.0,>=0.4.0->langchain-chroma) (2.32.3)\n",
      "Requirement already satisfied: requests-oauthlib in c:\\users\\chikaturin\\appdata\\local\\programs\\python\\python313\\lib\\site-packages (from kubernetes>=28.1.0->chromadb!=0.5.4,!=0.5.5,<0.6.0,>=0.4.0->langchain-chroma) (2.0.0)\n",
      "Requirement already satisfied: oauthlib>=3.2.2 in c:\\users\\chikaturin\\appdata\\local\\programs\\python\\python313\\lib\\site-packages (from kubernetes>=28.1.0->chromadb!=0.5.4,!=0.5.5,<0.6.0,>=0.4.0->langchain-chroma) (3.2.2)\n",
      "Requirement already satisfied: urllib3>=1.24.2 in c:\\users\\chikaturin\\appdata\\local\\programs\\python\\python313\\lib\\site-packages (from kubernetes>=28.1.0->chromadb!=0.5.4,!=0.5.5,<0.6.0,>=0.4.0->langchain-chroma) (2.3.0)\n",
      "Requirement already satisfied: durationpy>=0.7 in c:\\users\\chikaturin\\appdata\\local\\programs\\python\\python313\\lib\\site-packages (from kubernetes>=28.1.0->chromadb!=0.5.4,!=0.5.5,<0.6.0,>=0.4.0->langchain-chroma) (0.9)\n",
      "Requirement already satisfied: requests-toolbelt<2.0.0,>=1.0.0 in c:\\users\\chikaturin\\appdata\\local\\programs\\python\\python313\\lib\\site-packages (from langsmith<0.4,>=0.1.125->langchain-core<0.4,>=0.1.40->langchain-chroma) (1.0.0)\n",
      "Requirement already satisfied: coloredlogs in c:\\users\\chikaturin\\appdata\\local\\programs\\python\\python313\\lib\\site-packages (from onnxruntime>=1.14.1->chromadb!=0.5.4,!=0.5.5,<0.6.0,>=0.4.0->langchain-chroma) (15.0.1)\n",
      "Requirement already satisfied: flatbuffers in c:\\users\\chikaturin\\appdata\\local\\programs\\python\\python313\\lib\\site-packages (from onnxruntime>=1.14.1->chromadb!=0.5.4,!=0.5.5,<0.6.0,>=0.4.0->langchain-chroma) (24.12.23)\n",
      "Requirement already satisfied: protobuf in c:\\users\\chikaturin\\appdata\\local\\programs\\python\\python313\\lib\\site-packages (from onnxruntime>=1.14.1->chromadb!=0.5.4,!=0.5.5,<0.6.0,>=0.4.0->langchain-chroma) (5.29.2)\n",
      "Requirement already satisfied: sympy in c:\\users\\chikaturin\\appdata\\local\\programs\\python\\python313\\lib\\site-packages (from onnxruntime>=1.14.1->chromadb!=0.5.4,!=0.5.5,<0.6.0,>=0.4.0->langchain-chroma) (1.13.3)\n",
      "Requirement already satisfied: deprecated>=1.2.6 in c:\\users\\chikaturin\\appdata\\local\\programs\\python\\python313\\lib\\site-packages (from opentelemetry-api>=1.2.0->chromadb!=0.5.4,!=0.5.5,<0.6.0,>=0.4.0->langchain-chroma) (1.2.15)\n",
      "Requirement already satisfied: importlib-metadata<=8.5.0,>=6.0 in c:\\users\\chikaturin\\appdata\\local\\programs\\python\\python313\\lib\\site-packages (from opentelemetry-api>=1.2.0->chromadb!=0.5.4,!=0.5.5,<0.6.0,>=0.4.0->langchain-chroma) (8.5.0)\n",
      "Requirement already satisfied: googleapis-common-protos~=1.52 in c:\\users\\chikaturin\\appdata\\local\\programs\\python\\python313\\lib\\site-packages (from opentelemetry-exporter-otlp-proto-grpc>=1.2.0->chromadb!=0.5.4,!=0.5.5,<0.6.0,>=0.4.0->langchain-chroma) (1.66.0)\n",
      "Requirement already satisfied: opentelemetry-exporter-otlp-proto-common==1.29.0 in c:\\users\\chikaturin\\appdata\\local\\programs\\python\\python313\\lib\\site-packages (from opentelemetry-exporter-otlp-proto-grpc>=1.2.0->chromadb!=0.5.4,!=0.5.5,<0.6.0,>=0.4.0->langchain-chroma) (1.29.0)\n",
      "Requirement already satisfied: opentelemetry-proto==1.29.0 in c:\\users\\chikaturin\\appdata\\local\\programs\\python\\python313\\lib\\site-packages (from opentelemetry-exporter-otlp-proto-grpc>=1.2.0->chromadb!=0.5.4,!=0.5.5,<0.6.0,>=0.4.0->langchain-chroma) (1.29.0)\n",
      "Requirement already satisfied: opentelemetry-instrumentation-asgi==0.50b0 in c:\\users\\chikaturin\\appdata\\local\\programs\\python\\python313\\lib\\site-packages (from opentelemetry-instrumentation-fastapi>=0.41b0->chromadb!=0.5.4,!=0.5.5,<0.6.0,>=0.4.0->langchain-chroma) (0.50b0)\n",
      "Requirement already satisfied: opentelemetry-instrumentation==0.50b0 in c:\\users\\chikaturin\\appdata\\local\\programs\\python\\python313\\lib\\site-packages (from opentelemetry-instrumentation-fastapi>=0.41b0->chromadb!=0.5.4,!=0.5.5,<0.6.0,>=0.4.0->langchain-chroma) (0.50b0)\n",
      "Requirement already satisfied: opentelemetry-semantic-conventions==0.50b0 in c:\\users\\chikaturin\\appdata\\local\\programs\\python\\python313\\lib\\site-packages (from opentelemetry-instrumentation-fastapi>=0.41b0->chromadb!=0.5.4,!=0.5.5,<0.6.0,>=0.4.0->langchain-chroma) (0.50b0)\n",
      "Requirement already satisfied: opentelemetry-util-http==0.50b0 in c:\\users\\chikaturin\\appdata\\local\\programs\\python\\python313\\lib\\site-packages (from opentelemetry-instrumentation-fastapi>=0.41b0->chromadb!=0.5.4,!=0.5.5,<0.6.0,>=0.4.0->langchain-chroma) (0.50b0)\n",
      "Requirement already satisfied: wrapt<2.0.0,>=1.0.0 in c:\\users\\chikaturin\\appdata\\local\\programs\\python\\python313\\lib\\site-packages (from opentelemetry-instrumentation==0.50b0->opentelemetry-instrumentation-fastapi>=0.41b0->chromadb!=0.5.4,!=0.5.5,<0.6.0,>=0.4.0->langchain-chroma) (1.17.0)\n",
      "Requirement already satisfied: asgiref~=3.0 in c:\\users\\chikaturin\\appdata\\local\\programs\\python\\python313\\lib\\site-packages (from opentelemetry-instrumentation-asgi==0.50b0->opentelemetry-instrumentation-fastapi>=0.41b0->chromadb!=0.5.4,!=0.5.5,<0.6.0,>=0.4.0->langchain-chroma) (3.8.1)\n",
      "Requirement already satisfied: monotonic>=1.5 in c:\\users\\chikaturin\\appdata\\local\\programs\\python\\python313\\lib\\site-packages (from posthog>=2.4.0->chromadb!=0.5.4,!=0.5.5,<0.6.0,>=0.4.0->langchain-chroma) (1.6)\n",
      "Requirement already satisfied: backoff>=1.10.0 in c:\\users\\chikaturin\\appdata\\local\\programs\\python\\python313\\lib\\site-packages (from posthog>=2.4.0->chromadb!=0.5.4,!=0.5.5,<0.6.0,>=0.4.0->langchain-chroma) (2.2.1)\n",
      "Requirement already satisfied: annotated-types>=0.6.0 in c:\\users\\chikaturin\\appdata\\local\\programs\\python\\python313\\lib\\site-packages (from pydantic>=1.9->chromadb!=0.5.4,!=0.5.5,<0.6.0,>=0.4.0->langchain-chroma) (0.7.0)\n",
      "Requirement already satisfied: pydantic-core==2.27.2 in c:\\users\\chikaturin\\appdata\\local\\programs\\python\\python313\\lib\\site-packages (from pydantic>=1.9->chromadb!=0.5.4,!=0.5.5,<0.6.0,>=0.4.0->langchain-chroma) (2.27.2)\n",
      "Requirement already satisfied: markdown-it-py>=2.2.0 in c:\\users\\chikaturin\\appdata\\local\\programs\\python\\python313\\lib\\site-packages (from rich>=10.11.0->chromadb!=0.5.4,!=0.5.5,<0.6.0,>=0.4.0->langchain-chroma) (3.0.0)\n",
      "Requirement already satisfied: pygments<3.0.0,>=2.13.0 in c:\\users\\chikaturin\\appdata\\roaming\\python\\python313\\site-packages (from rich>=10.11.0->chromadb!=0.5.4,!=0.5.5,<0.6.0,>=0.4.0->langchain-chroma) (2.18.0)\n",
      "Requirement already satisfied: huggingface-hub<1.0,>=0.16.4 in c:\\users\\chikaturin\\appdata\\local\\programs\\python\\python313\\lib\\site-packages (from tokenizers<=0.20.3,>=0.13.2->chromadb!=0.5.4,!=0.5.5,<0.6.0,>=0.4.0->langchain-chroma) (0.27.0)\n",
      "Requirement already satisfied: click>=8.0.0 in c:\\users\\chikaturin\\appdata\\local\\programs\\python\\python313\\lib\\site-packages (from typer>=0.9.0->chromadb!=0.5.4,!=0.5.5,<0.6.0,>=0.4.0->langchain-chroma) (8.1.8)\n",
      "Requirement already satisfied: shellingham>=1.3.0 in c:\\users\\chikaturin\\appdata\\local\\programs\\python\\python313\\lib\\site-packages (from typer>=0.9.0->chromadb!=0.5.4,!=0.5.5,<0.6.0,>=0.4.0->langchain-chroma) (1.5.4)\n",
      "Requirement already satisfied: httptools>=0.6.3 in c:\\users\\chikaturin\\appdata\\local\\programs\\python\\python313\\lib\\site-packages (from uvicorn[standard]>=0.18.3->chromadb!=0.5.4,!=0.5.5,<0.6.0,>=0.4.0->langchain-chroma) (0.6.4)\n",
      "Requirement already satisfied: python-dotenv>=0.13 in c:\\users\\chikaturin\\appdata\\local\\programs\\python\\python313\\lib\\site-packages (from uvicorn[standard]>=0.18.3->chromadb!=0.5.4,!=0.5.5,<0.6.0,>=0.4.0->langchain-chroma) (1.0.1)\n",
      "Requirement already satisfied: watchfiles>=0.13 in c:\\users\\chikaturin\\appdata\\local\\programs\\python\\python313\\lib\\site-packages (from uvicorn[standard]>=0.18.3->chromadb!=0.5.4,!=0.5.5,<0.6.0,>=0.4.0->langchain-chroma) (1.0.3)\n",
      "Requirement already satisfied: websockets>=10.4 in c:\\users\\chikaturin\\appdata\\local\\programs\\python\\python313\\lib\\site-packages (from uvicorn[standard]>=0.18.3->chromadb!=0.5.4,!=0.5.5,<0.6.0,>=0.4.0->langchain-chroma) (14.1)\n",
      "Requirement already satisfied: cachetools<6.0,>=2.0.0 in c:\\users\\chikaturin\\appdata\\local\\programs\\python\\python313\\lib\\site-packages (from google-auth>=1.0.1->kubernetes>=28.1.0->chromadb!=0.5.4,!=0.5.5,<0.6.0,>=0.4.0->langchain-chroma) (5.5.0)\n",
      "Requirement already satisfied: pyasn1-modules>=0.2.1 in c:\\users\\chikaturin\\appdata\\local\\programs\\python\\python313\\lib\\site-packages (from google-auth>=1.0.1->kubernetes>=28.1.0->chromadb!=0.5.4,!=0.5.5,<0.6.0,>=0.4.0->langchain-chroma) (0.4.1)\n",
      "Requirement already satisfied: rsa<5,>=3.1.4 in c:\\users\\chikaturin\\appdata\\local\\programs\\python\\python313\\lib\\site-packages (from google-auth>=1.0.1->kubernetes>=28.1.0->chromadb!=0.5.4,!=0.5.5,<0.6.0,>=0.4.0->langchain-chroma) (4.9)\n",
      "Requirement already satisfied: filelock in c:\\users\\chikaturin\\appdata\\local\\programs\\python\\python313\\lib\\site-packages (from huggingface-hub<1.0,>=0.16.4->tokenizers<=0.20.3,>=0.13.2->chromadb!=0.5.4,!=0.5.5,<0.6.0,>=0.4.0->langchain-chroma) (3.16.1)\n",
      "Requirement already satisfied: fsspec>=2023.5.0 in c:\\users\\chikaturin\\appdata\\local\\programs\\python\\python313\\lib\\site-packages (from huggingface-hub<1.0,>=0.16.4->tokenizers<=0.20.3,>=0.13.2->chromadb!=0.5.4,!=0.5.5,<0.6.0,>=0.4.0->langchain-chroma) (2024.12.0)\n",
      "Requirement already satisfied: zipp>=3.20 in c:\\users\\chikaturin\\appdata\\local\\programs\\python\\python313\\lib\\site-packages (from importlib-metadata<=8.5.0,>=6.0->opentelemetry-api>=1.2.0->chromadb!=0.5.4,!=0.5.5,<0.6.0,>=0.4.0->langchain-chroma) (3.21.0)\n",
      "Requirement already satisfied: mdurl~=0.1 in c:\\users\\chikaturin\\appdata\\local\\programs\\python\\python313\\lib\\site-packages (from markdown-it-py>=2.2.0->rich>=10.11.0->chromadb!=0.5.4,!=0.5.5,<0.6.0,>=0.4.0->langchain-chroma) (0.1.2)\n",
      "Requirement already satisfied: charset-normalizer<4,>=2 in c:\\users\\chikaturin\\appdata\\local\\programs\\python\\python313\\lib\\site-packages (from requests->kubernetes>=28.1.0->chromadb!=0.5.4,!=0.5.5,<0.6.0,>=0.4.0->langchain-chroma) (3.4.0)\n",
      "Requirement already satisfied: humanfriendly>=9.1 in c:\\users\\chikaturin\\appdata\\local\\programs\\python\\python313\\lib\\site-packages (from coloredlogs->onnxruntime>=1.14.1->chromadb!=0.5.4,!=0.5.5,<0.6.0,>=0.4.0->langchain-chroma) (10.0)\n",
      "Requirement already satisfied: mpmath<1.4,>=1.1.0 in c:\\users\\chikaturin\\appdata\\local\\programs\\python\\python313\\lib\\site-packages (from sympy->onnxruntime>=1.14.1->chromadb!=0.5.4,!=0.5.5,<0.6.0,>=0.4.0->langchain-chroma) (1.3.0)\n",
      "Requirement already satisfied: pyreadline3 in c:\\users\\chikaturin\\appdata\\local\\programs\\python\\python313\\lib\\site-packages (from humanfriendly>=9.1->coloredlogs->onnxruntime>=1.14.1->chromadb!=0.5.4,!=0.5.5,<0.6.0,>=0.4.0->langchain-chroma) (3.5.4)\n",
      "Requirement already satisfied: pyasn1<0.7.0,>=0.4.6 in c:\\users\\chikaturin\\appdata\\local\\programs\\python\\python313\\lib\\site-packages (from pyasn1-modules>=0.2.1->google-auth>=1.0.1->kubernetes>=28.1.0->chromadb!=0.5.4,!=0.5.5,<0.6.0,>=0.4.0->langchain-chroma) (0.6.1)\n"
     ]
    },
    {
     "name": "stderr",
     "output_type": "stream",
     "text": [
      "\n",
      "[notice] A new release of pip is available: 24.3.1 -> 25.0\n",
      "[notice] To update, run: python.exe -m pip install --upgrade pip\n"
     ]
    },
    {
     "name": "stdout",
     "output_type": "stream",
     "text": [
      "Requirement already satisfied: langchain in c:\\users\\chikaturin\\appdata\\local\\programs\\python\\python313\\lib\\site-packages (0.3.17)\n",
      "Requirement already satisfied: langchain-community in c:\\users\\chikaturin\\appdata\\local\\programs\\python\\python313\\lib\\site-packages (0.3.16)\n",
      "Requirement already satisfied: PyYAML>=5.3 in c:\\users\\chikaturin\\appdata\\local\\programs\\python\\python313\\lib\\site-packages (from langchain) (6.0.2)\n",
      "Requirement already satisfied: SQLAlchemy<3,>=1.4 in c:\\users\\chikaturin\\appdata\\local\\programs\\python\\python313\\lib\\site-packages (from langchain) (2.0.36)\n",
      "Requirement already satisfied: aiohttp<4.0.0,>=3.8.3 in c:\\users\\chikaturin\\appdata\\local\\programs\\python\\python313\\lib\\site-packages (from langchain) (3.11.11)\n",
      "Requirement already satisfied: langchain-core<0.4.0,>=0.3.33 in c:\\users\\chikaturin\\appdata\\local\\programs\\python\\python313\\lib\\site-packages (from langchain) (0.3.33)\n",
      "Requirement already satisfied: langchain-text-splitters<0.4.0,>=0.3.3 in c:\\users\\chikaturin\\appdata\\local\\programs\\python\\python313\\lib\\site-packages (from langchain) (0.3.4)\n",
      "Requirement already satisfied: langsmith<0.4,>=0.1.17 in c:\\users\\chikaturin\\appdata\\local\\programs\\python\\python313\\lib\\site-packages (from langchain) (0.2.4)\n",
      "Requirement already satisfied: numpy<3,>=1.26.2 in c:\\users\\chikaturin\\appdata\\local\\programs\\python\\python313\\lib\\site-packages (from langchain) (1.26.4)\n",
      "Requirement already satisfied: pydantic<3.0.0,>=2.7.4 in c:\\users\\chikaturin\\appdata\\local\\programs\\python\\python313\\lib\\site-packages (from langchain) (2.10.4)\n",
      "Requirement already satisfied: requests<3,>=2 in c:\\users\\chikaturin\\appdata\\local\\programs\\python\\python313\\lib\\site-packages (from langchain) (2.32.3)\n",
      "Requirement already satisfied: tenacity!=8.4.0,<10,>=8.1.0 in c:\\users\\chikaturin\\appdata\\local\\programs\\python\\python313\\lib\\site-packages (from langchain) (9.0.0)\n",
      "Requirement already satisfied: dataclasses-json<0.7,>=0.5.7 in c:\\users\\chikaturin\\appdata\\local\\programs\\python\\python313\\lib\\site-packages (from langchain-community) (0.6.7)\n",
      "Requirement already satisfied: httpx-sse<0.5.0,>=0.4.0 in c:\\users\\chikaturin\\appdata\\local\\programs\\python\\python313\\lib\\site-packages (from langchain-community) (0.4.0)\n",
      "Requirement already satisfied: pydantic-settings<3.0.0,>=2.4.0 in c:\\users\\chikaturin\\appdata\\local\\programs\\python\\python313\\lib\\site-packages (from langchain-community) (2.7.0)\n",
      "Requirement already satisfied: aiohappyeyeballs>=2.3.0 in c:\\users\\chikaturin\\appdata\\local\\programs\\python\\python313\\lib\\site-packages (from aiohttp<4.0.0,>=3.8.3->langchain) (2.4.4)\n",
      "Requirement already satisfied: aiosignal>=1.1.2 in c:\\users\\chikaturin\\appdata\\local\\programs\\python\\python313\\lib\\site-packages (from aiohttp<4.0.0,>=3.8.3->langchain) (1.3.2)\n",
      "Requirement already satisfied: attrs>=17.3.0 in c:\\users\\chikaturin\\appdata\\local\\programs\\python\\python313\\lib\\site-packages (from aiohttp<4.0.0,>=3.8.3->langchain) (24.3.0)\n",
      "Requirement already satisfied: frozenlist>=1.1.1 in c:\\users\\chikaturin\\appdata\\local\\programs\\python\\python313\\lib\\site-packages (from aiohttp<4.0.0,>=3.8.3->langchain) (1.5.0)\n",
      "Requirement already satisfied: multidict<7.0,>=4.5 in c:\\users\\chikaturin\\appdata\\local\\programs\\python\\python313\\lib\\site-packages (from aiohttp<4.0.0,>=3.8.3->langchain) (6.1.0)\n",
      "Requirement already satisfied: propcache>=0.2.0 in c:\\users\\chikaturin\\appdata\\local\\programs\\python\\python313\\lib\\site-packages (from aiohttp<4.0.0,>=3.8.3->langchain) (0.2.1)\n",
      "Requirement already satisfied: yarl<2.0,>=1.17.0 in c:\\users\\chikaturin\\appdata\\local\\programs\\python\\python313\\lib\\site-packages (from aiohttp<4.0.0,>=3.8.3->langchain) (1.18.3)\n",
      "Requirement already satisfied: marshmallow<4.0.0,>=3.18.0 in c:\\users\\chikaturin\\appdata\\local\\programs\\python\\python313\\lib\\site-packages (from dataclasses-json<0.7,>=0.5.7->langchain-community) (3.23.2)\n",
      "Requirement already satisfied: typing-inspect<1,>=0.4.0 in c:\\users\\chikaturin\\appdata\\local\\programs\\python\\python313\\lib\\site-packages (from dataclasses-json<0.7,>=0.5.7->langchain-community) (0.9.0)\n",
      "Requirement already satisfied: jsonpatch<2.0,>=1.33 in c:\\users\\chikaturin\\appdata\\local\\programs\\python\\python313\\lib\\site-packages (from langchain-core<0.4.0,>=0.3.33->langchain) (1.33)\n",
      "Requirement already satisfied: packaging<25,>=23.2 in c:\\users\\chikaturin\\appdata\\local\\programs\\python\\python313\\lib\\site-packages (from langchain-core<0.4.0,>=0.3.33->langchain) (24.2)\n",
      "Requirement already satisfied: typing-extensions>=4.7 in c:\\users\\chikaturin\\appdata\\local\\programs\\python\\python313\\lib\\site-packages (from langchain-core<0.4.0,>=0.3.33->langchain) (4.12.2)\n",
      "Requirement already satisfied: httpx<1,>=0.23.0 in c:\\users\\chikaturin\\appdata\\local\\programs\\python\\python313\\lib\\site-packages (from langsmith<0.4,>=0.1.17->langchain) (0.27.2)\n",
      "Requirement already satisfied: orjson<4.0.0,>=3.9.14 in c:\\users\\chikaturin\\appdata\\local\\programs\\python\\python313\\lib\\site-packages (from langsmith<0.4,>=0.1.17->langchain) (3.10.12)\n",
      "Requirement already satisfied: requests-toolbelt<2.0.0,>=1.0.0 in c:\\users\\chikaturin\\appdata\\local\\programs\\python\\python313\\lib\\site-packages (from langsmith<0.4,>=0.1.17->langchain) (1.0.0)\n",
      "Requirement already satisfied: annotated-types>=0.6.0 in c:\\users\\chikaturin\\appdata\\local\\programs\\python\\python313\\lib\\site-packages (from pydantic<3.0.0,>=2.7.4->langchain) (0.7.0)\n",
      "Requirement already satisfied: pydantic-core==2.27.2 in c:\\users\\chikaturin\\appdata\\local\\programs\\python\\python313\\lib\\site-packages (from pydantic<3.0.0,>=2.7.4->langchain) (2.27.2)\n",
      "Requirement already satisfied: python-dotenv>=0.21.0 in c:\\users\\chikaturin\\appdata\\local\\programs\\python\\python313\\lib\\site-packages (from pydantic-settings<3.0.0,>=2.4.0->langchain-community) (1.0.1)\n",
      "Requirement already satisfied: charset-normalizer<4,>=2 in c:\\users\\chikaturin\\appdata\\local\\programs\\python\\python313\\lib\\site-packages (from requests<3,>=2->langchain) (3.4.0)\n",
      "Requirement already satisfied: idna<4,>=2.5 in c:\\users\\chikaturin\\appdata\\local\\programs\\python\\python313\\lib\\site-packages (from requests<3,>=2->langchain) (3.10)\n",
      "Requirement already satisfied: urllib3<3,>=1.21.1 in c:\\users\\chikaturin\\appdata\\local\\programs\\python\\python313\\lib\\site-packages (from requests<3,>=2->langchain) (2.3.0)\n",
      "Requirement already satisfied: certifi>=2017.4.17 in c:\\users\\chikaturin\\appdata\\local\\programs\\python\\python313\\lib\\site-packages (from requests<3,>=2->langchain) (2024.12.14)\n",
      "Requirement already satisfied: anyio in c:\\users\\chikaturin\\appdata\\local\\programs\\python\\python313\\lib\\site-packages (from httpx<1,>=0.23.0->langsmith<0.4,>=0.1.17->langchain) (4.7.0)\n",
      "Requirement already satisfied: httpcore==1.* in c:\\users\\chikaturin\\appdata\\local\\programs\\python\\python313\\lib\\site-packages (from httpx<1,>=0.23.0->langsmith<0.4,>=0.1.17->langchain) (1.0.7)\n",
      "Requirement already satisfied: sniffio in c:\\users\\chikaturin\\appdata\\local\\programs\\python\\python313\\lib\\site-packages (from httpx<1,>=0.23.0->langsmith<0.4,>=0.1.17->langchain) (1.3.1)\n",
      "Requirement already satisfied: h11<0.15,>=0.13 in c:\\users\\chikaturin\\appdata\\local\\programs\\python\\python313\\lib\\site-packages (from httpcore==1.*->httpx<1,>=0.23.0->langsmith<0.4,>=0.1.17->langchain) (0.14.0)\n",
      "Requirement already satisfied: jsonpointer>=1.9 in c:\\users\\chikaturin\\appdata\\local\\programs\\python\\python313\\lib\\site-packages (from jsonpatch<2.0,>=1.33->langchain-core<0.4.0,>=0.3.33->langchain) (3.0.0)\n",
      "Requirement already satisfied: mypy-extensions>=0.3.0 in c:\\users\\chikaturin\\appdata\\local\\programs\\python\\python313\\lib\\site-packages (from typing-inspect<1,>=0.4.0->dataclasses-json<0.7,>=0.5.7->langchain-community) (1.0.0)\n"
     ]
    },
    {
     "name": "stderr",
     "output_type": "stream",
     "text": [
      "\n",
      "[notice] A new release of pip is available: 24.3.1 -> 25.0\n",
      "[notice] To update, run: python.exe -m pip install --upgrade pip\n"
     ]
    },
    {
     "name": "stdout",
     "output_type": "stream",
     "text": [
      "Requirement already satisfied: faiss-cpu in c:\\users\\chikaturin\\appdata\\local\\programs\\python\\python313\\lib\\site-packages (1.9.0.post1)"
     ]
    },
    {
     "name": "stderr",
     "output_type": "stream",
     "text": [
      "\n",
      "[notice] A new release of pip is available: 24.3.1 -> 25.0\n",
      "[notice] To update, run: python.exe -m pip install --upgrade pip\n"
     ]
    },
    {
     "name": "stdout",
     "output_type": "stream",
     "text": [
      "\n",
      "Requirement already satisfied: tqdm in c:\\users\\chikaturin\\appdata\\local\\programs\\python\\python313\\lib\\site-packages (4.67.1)\n",
      "Requirement already satisfied: numpy<3.0,>=1.25.0 in c:\\users\\chikaturin\\appdata\\local\\programs\\python\\python313\\lib\\site-packages (from faiss-cpu) (1.26.4)\n",
      "Requirement already satisfied: packaging in c:\\users\\chikaturin\\appdata\\local\\programs\\python\\python313\\lib\\site-packages (from faiss-cpu) (24.2)\n",
      "Requirement already satisfied: colorama in c:\\users\\chikaturin\\appdata\\local\\programs\\python\\python313\\lib\\site-packages (from tqdm) (0.4.6)\n"
     ]
    },
    {
     "name": "stderr",
     "output_type": "stream",
     "text": [
      "\u001b[?25lpulling manifest ⠋ \u001b[?25h\u001b[?25l\u001b[2K\u001b[1Gpulling manifest ⠙ \u001b[?25h\u001b[?25l\u001b[2K\u001b[1Gpulling manifest ⠹ \u001b[?25h\u001b[?25l\u001b[2K\u001b[1Gpulling manifest ⠸ \u001b[?25h\u001b[?25l\u001b[2K\u001b[1Gpulling manifest ⠼ \u001b[?25h\u001b[?25l\u001b[2K\u001b[1Gpulling manifest ⠴ \u001b[?25h\u001b[?25l\u001b[2K\u001b[1Gpulling manifest ⠦ \u001b[?25h\u001b[?25l\u001b[2K\u001b[1Gpulling manifest ⠧ \u001b[?25h\u001b[?25l\u001b[2K\u001b[1Gpulling manifest ⠇ \u001b[?25h\u001b[?25l\u001b[2K\u001b[1Gpulling manifest ⠏ \u001b[?25h\u001b[?25l\u001b[2K\u001b[1Gpulling manifest \n",
      "pulling 11f274007f09... 100% ▕████████████████▏ 6.0 GB                         \n",
      "pulling ece5e659647a... 100% ▕████████████████▏ 1.9 GB                         \n",
      "pulling 715415638c9c... 100% ▕████████████████▏  269 B                         \n",
      "pulling 0b4284c1f870... 100% ▕████████████████▏ 7.7 KB                         \n",
      "pulling fefc914e46e6... 100% ▕████████████████▏   32 B                         \n",
      "pulling fbd313562bb7... 100% ▕████████████████▏  572 B                         \n",
      "verifying sha256 digest \n",
      "writing manifest \n",
      "success \u001b[?25h\n"
     ]
    }
   ],
   "source": [
    "! pip install IPython pandas numpy scikit-learn requests langchain-core\n",
    "! pip install -qU langchain-ollama \n",
    "! pip install langchain-chroma\n",
    "! pip install -U langchain langchain-community\n",
    "! pip install faiss-cpu tqdm\n",
    "! ollama pull llama3.2-vision"
   ]
  },
  {
   "cell_type": "markdown",
   "metadata": {},
   "source": [
    "# (0.1) import\n"
   ]
  },
  {
   "cell_type": "code",
   "execution_count": 2,
   "metadata": {},
   "outputs": [],
   "source": [
    "import os\n",
    "import uuid\n",
    "import base64\n",
    "import re\n",
    "import requests\n",
    "import ollama\n",
    "from uuid import uuid4\n",
    "from IPython import display\n",
    "import pandas as pd\n",
    "import numpy as np\n",
    "from sklearn.impute import SimpleImputer\n",
    "from langchain_ollama import OllamaEmbeddings\n",
    "from langchain.chains import LLMChain\n",
    "from langchain.prompts import PromptTemplate\n",
    "from langchain.schema.messages import HumanMessage, SystemMessage\n",
    "from langchain.schema.document import Document\n",
    "from langchain_community.vectorstores import FAISS\n",
    "from langchain.retrievers.multi_vector import MultiVectorRetriever\n",
    "from tqdm import tqdm\n",
    "from langchain.llms import Ollama"
   ]
  },
  {
   "cell_type": "markdown",
   "metadata": {},
   "source": [
    "# 1. Read dataset\n"
   ]
  },
  {
   "cell_type": "code",
   "execution_count": 2,
   "metadata": {},
   "outputs": [],
   "source": [
    "def readData(path):\n",
    "    data_df = pd.read_csv(path, encoding=\"utf-8\", on_bad_lines=\"skip\")\n",
    "\n",
    "    imputer = SimpleImputer(missing_values=np.nan, strategy=\"most_frequent\")\n",
    "    data_df = pd.DataFrame(imputer.fit_transform(data_df), columns=data_df.columns)\n",
    "\n",
    "    for col in data_df.columns:\n",
    "        missing = data_df[col].isnull().sum()\n",
    "        missing_percent = missing / len(data_df) * 100\n",
    "        print(f\"{col}: {missing} missing values, {missing_percent:.2f}%\")\n",
    "\n",
    "    return data_df\n"
   ]
  },
  {
   "cell_type": "code",
   "execution_count": null,
   "metadata": {},
   "outputs": [],
   "source": [
    "EC_df = readData(\"../Dataset/EC.csv\")\n",
    "print(\"\\n 1: EC \\n\", EC_df.head())"
   ]
  },
  {
   "cell_type": "code",
   "execution_count": null,
   "metadata": {},
   "outputs": [],
   "source": [
    "images_df=EC_df[\"image_url\"].iloc[:240].values\n",
    "style_df=EC_df.iloc[:, 0:8].iloc[:240].values\n",
    "id=EC_df[\"timestamp\"].iloc[:240].values\n",
    "print(type(images_df))\n",
    "print(style_df)\n",
    "print(id)"
   ]
  },
  {
   "cell_type": "markdown",
   "metadata": {},
   "source": [
    "# 2. Summary Image And Text\n"
   ]
  },
  {
   "cell_type": "markdown",
   "metadata": {},
   "source": [
    "# Test summarise\n",
    "\n",
    "<!-- text_elements = []\n",
    "text_summaries = []\n",
    "\n",
    "def generate_text_summaries(texts, summarize_texts=False):\n",
    "    summary_prompt = \"\"\"Summarize the following {element_type} : \"{element}\" \"\"\"\n",
    "    prompt_template = PromptTemplate.from_template(summary_prompt)\n",
    "\n",
    "    def summarize(element, element_type=\"text\"):\n",
    "        formatted_prompt = prompt_template.format(element=element, element_type=element_type)\n",
    "        response = ollama.chat(\n",
    "            model=\"llama3.2-vision\",\n",
    "            messages=[{\"role\": \"user\", \"content\": formatted_prompt}],\n",
    "        )\n",
    "        return response.message.content\n",
    "\n",
    "    if texts and summarize_texts:\n",
    "        for i in tqdm(range(min(2,len(texts))), desc=\"Summarizing Texts\"):\n",
    "            text_elements.append(texts[i])\n",
    "            text_summaries.append(summarize(texts[i]))\n",
    "    elif texts:\n",
    "        text_summaries.extend(texts)\n",
    "\n",
    "    return text_summaries\n",
    "\n",
    "texts = style_df.values.tolist()\n",
    "text_elements, text_summaries = generate_text_summaries(texts, summarize_texts=True)\n",
    "print(\"End summarizing the table and text\") -->\n"
   ]
  },
  {
   "cell_type": "code",
   "execution_count": null,
   "metadata": {},
   "outputs": [],
   "source": [
    "text_elements = []\n",
    "text_summaries = []\n",
    "\n",
    "def generate_text_summaries(texts,text_ids, summarize_texts=False):\n",
    "    summary_prompt = \"\"\"Summarize the following {element_type} : \"{element}\" \"\"\"\n",
    "    summary_prompt_template = PromptTemplate.from_template(summary_prompt)\n",
    "\n",
    "    llm = Ollama(model=\"llama3.2-vision\")\n",
    "    summary_chain = LLMChain(llm=llm, prompt=summary_prompt_template)\n",
    "\n",
    "    if texts and summarize_texts:\n",
    "        for i in tqdm(range(len(texts)), desc=\"Summarizing Texts\"):\n",
    "            text_elements.append(texts[i])\n",
    "            summary = summary_chain.run({'element_type': 'text', 'element': texts[i]})\n",
    "            text_summaries.append(f\"{text_ids[i]}: \"+summary)\n",
    "    elif texts:\n",
    "        text_summaries.extend(texts) \n",
    "\n",
    "    return text_summaries\n",
    "\n",
    "texts = style_df.tolist()  \n",
    "text_ids=id.tolist()\n",
    "text_summaries = generate_text_summaries(texts, text_ids, summarize_texts=True)\n",
    "\n",
    "for i in range(len(text_elements)):\n",
    "    print(\"\\nText Elements:\", text_elements[i])\n",
    "    print(\"\\nText Summaries:\", text_summaries[i])\n",
    "\n",
    "print(\"End summarizing the table and text\")\n"
   ]
  },
  {
   "cell_type": "markdown",
   "metadata": {},
   "source": [
    "# Image summaries\n"
   ]
  },
  {
   "cell_type": "code",
   "execution_count": null,
   "metadata": {},
   "outputs": [],
   "source": [
    "\n",
    "image_elements = []\n",
    "image_summaries = []\n",
    "\n",
    "def encode_image(image_path):\n",
    "    try:\n",
    "        response = requests.get(image_path)\n",
    "        response.raise_for_status()  \n",
    "        image_data = response.content\n",
    "        encoded_image = base64.b64encode(image_data).decode(\"utf-8\")\n",
    "        return encoded_image\n",
    "    except Exception as e:\n",
    "        print(f\"Error encoding image at {image_path}: {e}\")\n",
    "        return None\n",
    "\n",
    "def image_summarize(encoded_image):\n",
    "    try:\n",
    "        response = ollama.chat(\n",
    "            model=\"llama3.2-vision\",\n",
    "            messages=[\n",
    "                {\n",
    "                    \"role\": \"user\",\n",
    "                    \"content\": \"Describe the contents of this image.\",\n",
    "                    \"images\": [encoded_image],\n",
    "                },\n",
    "                {\n",
    "                    \"role\": \"system\",\n",
    "                    \"content\": \"You are a bot that is good at analyzing images related to computer.\",\n",
    "                }\n",
    "            ],\n",
    "        )\n",
    "        return response.message.content \n",
    "    except Exception as e:\n",
    "        print(f\"Error summarizing image: {e}\")\n",
    "        return \"Failed to summarize image.\"\n",
    "\n",
    "def generate_img_summaries(image_links):\n",
    "    for i in tqdm(range(len(image_links)), desc=\"Summarizing Images\"):\n",
    "        encoded_image = encode_image(image_links[i])\n",
    "        if encoded_image is None:\n",
    "            continue \n",
    "        \n",
    "        print(\"Image link:\", image_links[i])\n",
    "        image_elements.append(encoded_image)\n",
    "        summary = image_summarize(encoded_image)\n",
    "        image_summaries.append(summary)  \n",
    "        print(\"Summary: \", summary)\n",
    "\n",
    "    return image_elements, image_summaries\n",
    "\n",
    "image_links = images_df.tolist()\n",
    "id_element=id.tolist()\n",
    "image_elements, image_summaries = generate_img_summaries(image_links)\n",
    "print(\"Image summaries completed.\")\n"
   ]
  },
  {
   "cell_type": "markdown",
   "metadata": {},
   "source": [
    "# Convert text_element to a string\n"
   ]
  },
  {
   "cell_type": "code",
   "execution_count": null,
   "metadata": {},
   "outputs": [],
   "source": [
    "text_as_str = \"\\n\".join([\", \".join(map(str, sublist)) for sublist in text_elements])\n",
    "\n",
    "print(\"text \",text_summaries[1]+\"\\n\")"
   ]
  },
  {
   "cell_type": "code",
   "execution_count": 9,
   "metadata": {},
   "outputs": [],
   "source": [
    "documents = []\n",
    "retrieve_contents = []\n",
    "\n",
    "id_doc=id.tolist()\n",
    "\n",
    "for doc_id,text_summary, image_summary, text_element, image_element in zip(id_doc,text_summaries, image_summaries, text_elements, image_elements):\n",
    "    combined_content = f\"**Text Summary:**\\n{text_summary}\\n\\n**Image Summary:**\\n{image_summary}\"\n",
    "\n",
    "    # Tạo đối tượng Document\n",
    "    doc = Document(\n",
    "        page_content=combined_content,\n",
    "        metadata={\n",
    "            'id': doc_id,\n",
    "            'type': 'combined',\n",
    "            'original_content': {\n",
    "                'id': doc_id,\n",
    "                'text_summary': text_summary,\n",
    "                'image_summary': image_summary,\n",
    "                'text_element': text_element,\n",
    "                'image_element': image_element\n",
    "            }\n",
    "        }\n",
    "    )\n",
    "    retrieve_contents.append(doc)\n",
    "    documents.append(doc)\n",
    "\n",
    "\n",
    "vectorstore = FAISS.from_documents(documents=documents, embedding=OllamaEmbeddings(model=\"llama3.2-vision\"))\n",
    "vectorstore.save_local(\"faiss_index\")\n"
   ]
  },
  {
   "cell_type": "markdown",
   "metadata": {},
   "source": [
    "# (3) Read doc at faiss\n"
   ]
  },
  {
   "cell_type": "code",
   "execution_count": 3,
   "metadata": {},
   "outputs": [],
   "source": [
    "embeddings = OllamaEmbeddings(model=\"llama3.2-vision\")\n",
    "db = FAISS.load_local(\"faiss_index\", embeddings, allow_dangerous_deserialization=True)"
   ]
  },
  {
   "cell_type": "markdown",
   "metadata": {},
   "source": [
    "# (3.1) prompt\n"
   ]
  },
  {
   "cell_type": "code",
   "execution_count": 12,
   "metadata": {},
   "outputs": [],
   "source": [
    "prompt_template = \"\"\"\n",
    "Before answering any question or giving advice, you must request and verify the metadata ID from the provided context. If there is too much data, prioritize suggesting the top 5 results.  \n",
    "\n",
    "You are an expert in computer components and configurations, with detailed knowledge of compatibility and optimization. Your responsibilities include:  \n",
    "\n",
    "1. **Requesting and verifying the metadata ID**:  \n",
    "   - Before providing detailed information, confirm the metadata ID from the context.  \n",
    "   - If no metadata ID is found, respond with: \"Please provide the metadata ID for detailed support.\"  \n",
    "   - If a valid metadata ID is found, include it at the beginning of your response in the following format: `ID: metadata['id']`.  \n",
    "\n",
    "2. **Providing detailed product information**:  \n",
    "   - Extract and summarize the detailed information of the product corresponding to the provided metadata ID from the context.  \n",
    "   - Filter out irrelevant products and provide details only on the relevant product.  \n",
    "\n",
    "3. **Evaluating and making recommendations**:  \n",
    "   - Provide a professional evaluation of the product, highlighting strengths and potential drawbacks.  \n",
    "   - Offer appropriate advice or suggestions based on the given context.  \n",
    "\n",
    "4. **Checking component compatibility (if applicable)**:  \n",
    "   - Verify compatibility between CPU, GPU, motherboard, RAM, power supply, cooling system, and case.  \n",
    "   - Ensure the socket type, RAM standard (DDR4, DDR5), power supply capacity, and GPU size meet the requirements.  \n",
    "\n",
    "5. **Using only the provided context**:  \n",
    "   - Retrieve all necessary information solely from the given context.  \n",
    "   - If the context lacks relevant information, respond with: \"Sorry, I don't have enough information on that.\"  \n",
    "\n",
    "**Context**:  \n",
    "{context}  \n",
    "\n",
    "**Question**:  \n",
    "{question}  \n",
    "\n",
    "**Answer**:\n",
    "\"\"\"\n",
    "\n",
    "qa_chain = LLMChain(llm=Ollama(model=\"llama3.2-vision\"), prompt=PromptTemplate.from_template(prompt_template))\n"
   ]
  },
  {
   "cell_type": "markdown",
   "metadata": {},
   "source": [
    "# (4) funtion to get the image\n"
   ]
  },
  {
   "cell_type": "code",
   "execution_count": 5,
   "metadata": {},
   "outputs": [],
   "source": [
    "def find_elementImage(result,rl):\n",
    "    relevant_image_elements = []\n",
    "    ids = set()\n",
    "    check = \"\"\n",
    "\n",
    "    regex = r\"ID[:\\s](\\d+)|ID:[:\\s](\\d+)\"\n",
    "    matches = re.findall(regex, result)\n",
    "\n",
    "    if matches:\n",
    "        for match in matches:\n",
    "            ids.add(match[0] or match[1]) \n",
    "    else:\n",
    "        return False\n",
    "    \n",
    "    print(\"IDs: \", ids)\n",
    "    \n",
    "    for single_id in ids:\n",
    "        for d in rl:\n",
    "            original_content = d.metadata.get('original_content', {})\n",
    "\n",
    "            if 'id' in original_content:\n",
    "                check = str(original_content['id']).strip()\n",
    "\n",
    "            if check == single_id:\n",
    "                if 'image_element' in original_content:\n",
    "                    print(\"Have Image ID: \", single_id)\n",
    "                    relevant_image_elements.append(original_content['image_element'])\n",
    "                    display.display(display.Image(base64.b64decode(str(original_content['image_element']))))\n",
    "    return ids"
   ]
  },
  {
   "cell_type": "markdown",
   "metadata": {},
   "source": [
    "# (5) The first function is to chat with AI\n"
   ]
  },
  {
   "cell_type": "code",
   "execution_count": 10,
   "metadata": {},
   "outputs": [],
   "source": [
    "def answer(question):\n",
    "    relevant_docs = db.similarity_search(question)\n",
    "    context = \"\"\n",
    "    relevant_images = []\n",
    "\n",
    "    for d in relevant_docs:\n",
    "        if 'id' in d.metadata['original_content']:\n",
    "            context += f\"ID:{d.metadata['original_content']['id']}\\n\"\n",
    "        if 'text_summary' in d.metadata['original_content']:\n",
    "            context += f\"{d.metadata['original_content']['text_summary']}\\n\"\n",
    "        if 'image_summary' in d.metadata['original_content']:\n",
    "            context += f\"Image Summary: {d.metadata['original_content']['image_summary']}\\n\"\n",
    "        context += f\"{d.page_content}\\n\"\n",
    "    print(\"run AI\")\n",
    "    result = qa_chain.run({'context': context, 'question': question})\n",
    "    return result, relevant_docs"
   ]
  },
  {
   "cell_type": "markdown",
   "metadata": {},
   "source": [
    "# (5.1) The second function is to chat with AI\n"
   ]
  },
  {
   "cell_type": "code",
   "execution_count": 7,
   "metadata": {},
   "outputs": [],
   "source": [
    "def interactive_chat(question):\n",
    "    relevant_docs = db.similarity_search(question)\n",
    "    context = \"\"\n",
    "    \n",
    "    for d in relevant_docs:\n",
    "        if 'id' in d.metadata['original_content']:\n",
    "            context += f\"ID:{d.metadata['original_content']['id']}\\n\"\n",
    "        if 'text_summary' in d.metadata['original_content']:\n",
    "            context += f\"{d.metadata['original_content']['text_summary']}\\n\"\n",
    "        if 'image_summary' in d.metadata['original_content']:\n",
    "            context += f\"Image Summary: {d.metadata['original_content']['image_summary']}\\n\"\n",
    "        context += f\"{d.page_content}\\n\"\n",
    "    \n",
    "    print(\"Bot: \", end=\"\", flush=True)\n",
    "\n",
    "    response = ollama.chat(\n",
    "        model=\"llama3.2-vision\",\n",
    "        stream=True,\n",
    "        messages=[\n",
    "            {\"role\": \"system\", \"content\": \"You must only use the provided context to answer. Do not include any information from outside sources. \" + context},\n",
    "            {\"role\": \"system\", \"content\": prompt_template.format(context=context, question=question)},\n",
    "            {\"role\": \"user\", \"content\": question},\n",
    "            {\"role\": \"assistant\", \"content\": \"Please provide the metadata ID for detailed support. You must write the ID in the format: ID: metadata['id'].\"},\n",
    "            {\"role\": \"assistant\", \"content\": prompt_template.format(context=context, question=question)+ \" Please provide detailed information about all relevant products, including specifications, features, and any additional details. If there are multiple products, list them clearly with their details.\"},\n",
    "            {\"role\": \"assistant\", \"content\": \"Based on the provided context, here is the detailed information about the product:\"}\n",
    "        ],\n",
    "    )\n",
    "\n",
    "    \n",
    "    result = \"\"\n",
    "    for chunk in response:\n",
    "        content = chunk.message.content\n",
    "        print(content, end=\"\", flush=True)\n",
    "        result += content    \n",
    "    find_elementImage(result, relevant_docs)\n",
    "    print()\n"
   ]
  },
  {
   "cell_type": "markdown",
   "metadata": {},
   "source": [
    "# (6) Run AI\n"
   ]
  },
  {
   "cell_type": "code",
   "execution_count": 13,
   "metadata": {},
   "outputs": [
    {
     "name": "stdout",
     "output_type": "stream",
     "text": [
      "run AI\n",
      "Để giúp bạn tìm được một thùng PC và card màn hình phù hợp với nhu cầu của mình, tôi sẽ đề xuất một số lựa chọn sau đây:\n",
      "\n",
      "1. Thùng PC:\n",
      "ID: 1604570935\n",
      "Sản phẩm: MSI GeForce GTX 1660 Ventus XS OC graphics card\n",
      "Giá: $230.90\n",
      "Đánh giá: 9.53/10\n",
      "\n",
      "2. Card màn hình:\n",
      "ID: 1604570967\n",
      "Sản phẩm: MSI GeForce RTX 2060 Gaming X Trio\n",
      "Giá: $399.91\n",
      "Đánh giá: 9.83/10\n",
      "\n",
      "Tuy nhiên, nếu bạn đang tìm kiếm một lựa chọn rẻ hơn, thì ID: 1604570935 có thể là một lựa chọn phù hợp với nhu cầu của bạn.\n",
      "\n",
      "Lưu ý rằng các thông tin trên chỉ mang tính chất tham khảo và không phải là khuyến nghị mua hàng cụ thể. Bạn nên kiểm tra thông tin chi tiết về sản phẩm và giá cả trước khi thực hiện bất kỳ quyết định nào.\n",
      "\n",
      "Hy vọng thông tin này hữu ích cho bạn!\n",
      "IDs:  {'1604570967', '1604570935'}\n",
      "Have Image ID:  1604570967\n"
     ]
    },
    {
     "data": {
      "image/jpeg": "[encoded data removed]",
      "text/plain": [
       "<IPython.core.display.Image object>"
      ]
     },
     "metadata": {},
     "output_type": "display_data"
    },
    {
     "name": "stdout",
     "output_type": "stream",
     "text": [
      "Have Image ID:  1604570935\n"
     ]
    },
    {
     "data": {
      "image/jpeg": "[encoded data removed]",
      "text/plain": [
       "<IPython.core.display.Image object>"
      ]
     },
     "metadata": {},
     "output_type": "display_data"
    },
    {
     "data": {
      "text/plain": [
       "{'1604570935', '1604570967'}"
      ]
     },
     "execution_count": 13,
     "metadata": {},
     "output_type": "execute_result"
    }
   ],
   "source": [
    "question = \"tôi cần 1 thùng pc và card màn hình rẻ cho PC \"+\"and give me ID of this component, you must write ID: metadata['id']\"\n",
    "result, relevant_docs = answer(question)\n",
    "print(result)\n",
    "find_elementImage(result,relevant_docs)"
   ]
  },
  {
   "cell_type": "code",
   "execution_count": null,
   "metadata": {},
   "outputs": [],
   "source": [
    "question = \"i need some graphic cards for pc, can you give me information of component\"\n",
    "interactive_chat(question)"
   ]
  },
  {
   "cell_type": "code",
   "execution_count": null,
   "metadata": {},
   "outputs": [],
   "source": [
    "find_elementImage(result,relevant_docs)"
   ]
  },
  {
   "cell_type": "code",
   "execution_count": null,
   "metadata": {},
   "outputs": [],
   "source": [
    "for rl in relevant_docs:\n",
    "    print(rl.metadata['original_content']['id'])"
   ]
  }
 ],
 "metadata": {
  "kernelspec": {
   "display_name": "Python 3",
   "language": "python",
   "name": "python3"
  },
  "language_info": {
   "codemirror_mode": {
    "name": "ipython",
    "version": 3
   },
   "file_extension": ".py",
   "mimetype": "text/x-python",
   "name": "python",
   "nbconvert_exporter": "python",
   "pygments_lexer": "ipython3",
   "version": "3.13.1"
  }
 },
 "nbformat": 4,
 "nbformat_minor": 2
}
